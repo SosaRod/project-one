{
 "cells": [
  {
   "cell_type": "code",
   "execution_count": null,
   "id": "701e9984-c83a-468a-991d-44a13f7f6057",
   "metadata": {},
   "outputs": [],
   "source": []
  }
 ],
 "metadata": {
  "kernelspec": {
   "display_name": "",
   "name": ""
  },
  "language_info": {
   "name": ""
  }
 },
 "nbformat": 4,
 "nbformat_minor": 5
}
