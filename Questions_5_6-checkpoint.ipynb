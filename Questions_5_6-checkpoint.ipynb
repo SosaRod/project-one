{
 "cells": [
  {
   "cell_type": "code",
   "execution_count": 1,
   "id": "42343f68-c560-4e2f-b5a7-65f522350022",
   "metadata": {},
   "outputs": [],
   "source": [
    "import pandas\n",
    "import matplotlib.pyplot as plt"
   ]
  },
  {
   "cell_type": "code",
   "execution_count": 2,
   "id": "c31b75a4-2f24-4eb2-bb01-99dd4e309c16",
   "metadata": {},
   "outputs": [
    {
     "data": {
      "text/html": [
       "<div>\n",
       "<style scoped>\n",
       "    .dataframe tbody tr th:only-of-type {\n",
       "        vertical-align: middle;\n",
       "    }\n",
       "\n",
       "    .dataframe tbody tr th {\n",
       "        vertical-align: top;\n",
       "    }\n",
       "\n",
       "    .dataframe thead th {\n",
       "        text-align: right;\n",
       "    }\n",
       "</style>\n",
       "<table border=\"1\" class=\"dataframe\">\n",
       "  <thead>\n",
       "    <tr style=\"text-align: right;\">\n",
       "      <th></th>\n",
       "      <th>Employee ID</th>\n",
       "      <th>Survey Date</th>\n",
       "      <th>Engagement Score</th>\n",
       "      <th>Satisfaction Score</th>\n",
       "      <th>Work-Life Balance Score</th>\n",
       "    </tr>\n",
       "  </thead>\n",
       "  <tbody>\n",
       "    <tr>\n",
       "      <th>0</th>\n",
       "      <td>1001</td>\n",
       "      <td>10-10-2022</td>\n",
       "      <td>2</td>\n",
       "      <td>5</td>\n",
       "      <td>5</td>\n",
       "    </tr>\n",
       "    <tr>\n",
       "      <th>1</th>\n",
       "      <td>1002</td>\n",
       "      <td>03-08-2023</td>\n",
       "      <td>4</td>\n",
       "      <td>5</td>\n",
       "      <td>3</td>\n",
       "    </tr>\n",
       "    <tr>\n",
       "      <th>2</th>\n",
       "      <td>1003</td>\n",
       "      <td>03-01-2023</td>\n",
       "      <td>2</td>\n",
       "      <td>5</td>\n",
       "      <td>2</td>\n",
       "    </tr>\n",
       "    <tr>\n",
       "      <th>3</th>\n",
       "      <td>1004</td>\n",
       "      <td>30-07-2023</td>\n",
       "      <td>3</td>\n",
       "      <td>5</td>\n",
       "      <td>3</td>\n",
       "    </tr>\n",
       "    <tr>\n",
       "      <th>4</th>\n",
       "      <td>1005</td>\n",
       "      <td>19-06-2023</td>\n",
       "      <td>2</td>\n",
       "      <td>4</td>\n",
       "      <td>5</td>\n",
       "    </tr>\n",
       "  </tbody>\n",
       "</table>\n",
       "</div>"
      ],
      "text/plain": [
       "   Employee ID Survey Date  Engagement Score  Satisfaction Score  \\\n",
       "0         1001  10-10-2022                 2                   5   \n",
       "1         1002  03-08-2023                 4                   5   \n",
       "2         1003  03-01-2023                 2                   5   \n",
       "3         1004  30-07-2023                 3                   5   \n",
       "4         1005  19-06-2023                 2                   4   \n",
       "\n",
       "   Work-Life Balance Score  \n",
       "0                        5  \n",
       "1                        3  \n",
       "2                        2  \n",
       "3                        3  \n",
       "4                        5  "
      ]
     },
     "execution_count": 2,
     "metadata": {},
     "output_type": "execute_result"
    }
   ],
   "source": [
    "# Load the data \n",
    "\n",
    "df = pandas.read_csv('employee_engagement_survey_data.csv')\n",
    "\n",
    "\n",
    "\n",
    "# Display data frames\n",
    "df.head()\n"
   ]
  },
  {
   "cell_type": "code",
   "execution_count": 3,
   "id": "3915b4eb-9a03-4339-87ba-e588425ea24a",
   "metadata": {},
   "outputs": [
    {
     "data": {
      "text/html": [
       "<div>\n",
       "<style scoped>\n",
       "    .dataframe tbody tr th:only-of-type {\n",
       "        vertical-align: middle;\n",
       "    }\n",
       "\n",
       "    .dataframe tbody tr th {\n",
       "        vertical-align: top;\n",
       "    }\n",
       "\n",
       "    .dataframe thead th {\n",
       "        text-align: right;\n",
       "    }\n",
       "</style>\n",
       "<table border=\"1\" class=\"dataframe\">\n",
       "  <thead>\n",
       "    <tr style=\"text-align: right;\">\n",
       "      <th></th>\n",
       "      <th>Engagement Score</th>\n",
       "      <th>Satisfaction Score</th>\n",
       "      <th>Work-Life Balance Score</th>\n",
       "    </tr>\n",
       "  </thead>\n",
       "  <tbody>\n",
       "    <tr>\n",
       "      <th>0</th>\n",
       "      <td>2</td>\n",
       "      <td>5</td>\n",
       "      <td>5</td>\n",
       "    </tr>\n",
       "    <tr>\n",
       "      <th>1</th>\n",
       "      <td>4</td>\n",
       "      <td>5</td>\n",
       "      <td>3</td>\n",
       "    </tr>\n",
       "    <tr>\n",
       "      <th>2</th>\n",
       "      <td>2</td>\n",
       "      <td>5</td>\n",
       "      <td>2</td>\n",
       "    </tr>\n",
       "    <tr>\n",
       "      <th>3</th>\n",
       "      <td>3</td>\n",
       "      <td>5</td>\n",
       "      <td>3</td>\n",
       "    </tr>\n",
       "    <tr>\n",
       "      <th>4</th>\n",
       "      <td>2</td>\n",
       "      <td>4</td>\n",
       "      <td>5</td>\n",
       "    </tr>\n",
       "  </tbody>\n",
       "</table>\n",
       "</div>"
      ],
      "text/plain": [
       "   Engagement Score  Satisfaction Score  Work-Life Balance Score\n",
       "0                 2                   5                        5\n",
       "1                 4                   5                        3\n",
       "2                 2                   5                        2\n",
       "3                 3                   5                        3\n",
       "4                 2                   4                        5"
      ]
     },
     "execution_count": 3,
     "metadata": {},
     "output_type": "execute_result"
    }
   ],
   "source": [
    "# Select Columns for correlation\n",
    "\n",
    "df_selected = df[['Engagement Score', 'Satisfaction Score', 'Work-Life Balance Score']]\n",
    "\n",
    "df_selected.head()\n"
   ]
  },
  {
   "cell_type": "code",
   "execution_count": 4,
   "id": "5a64b9fa-78d4-4967-85fb-4c67de42a18c",
   "metadata": {},
   "outputs": [
    {
     "name": "stdout",
     "output_type": "stream",
     "text": [
      "Correlation between Engagement Score and Satisfaction Score: -0.007598233441062129\n"
     ]
    }
   ],
   "source": [
    "# Calculate the correlation between Engagement Score and and job satisfaction\n",
    "\n",
    "correlation_3_4 = df_selected['Engagement Score'].corr(df_selected['Satisfaction Score'])\n",
    "print(f'Correlation between Engagement Score and Satisfaction Score: {correlation_3_4}')                                                                                                                                                                              "
   ]
  },
  {
   "cell_type": "code",
   "execution_count": 9,
   "id": "32606f24-aa32-435a-aeab-f6fc9fc7ef07",
   "metadata": {},
   "outputs": [
    {
     "data": {
      "image/png": "[encoded data removed]",
      "text/plain": [
       "<Figure size 640x480 with 1 Axes>"
      ]
     },
     "metadata": {},
     "output_type": "display_data"
    }
   ],
   "source": [
    "# Visualize the correlation between Engagement Score and Satisfaction score\n",
    "plt.bar(df_selected['Engagement Score'], df_selected['Satisfaction Score'])\n",
    "plt.title('Engagement Score vs Satisfaction Score')\n",
    "plt.xlabel('Engagement Score')\n",
    "plt.ylabel('Satisfaction Score')\n",
    "plt.show()\n"
   ]
  },
  {
   "cell_type": "code",
   "execution_count": 6,
   "id": "6f8d3c09-dd37-4a3a-9b83-8cb46aa73f73",
   "metadata": {},
   "outputs": [
    {
     "name": "stdout",
     "output_type": "stream",
     "text": [
      "Correlation between Satisfaction Score and Work-Life Balance Score: -0.02473284421745567\n"
     ]
    }
   ],
   "source": [
    "# Calculate the correlation between Job Satisfaction and work life balance\n",
    "\n",
    "correlation_4_5 = df_selected['Satisfaction Score'].corr(df_selected['Work-Life Balance Score'])\n",
    "print(f'Correlation between Satisfaction Score and Work-Life Balance Score: {correlation_4_5}')\n"
   ]
  },
  {
   "cell_type": "code",
   "execution_count": 7,
   "id": "32aafc20-d52e-418b-a30c-2acd58a8e010",
   "metadata": {},
   "outputs": [
    {
     "data": {
      "text/plain": [
       "Text(0, 0.5, 'Work-Life Balance Score')"
      ]
     },
     "execution_count": 7,
     "metadata": {},
     "output_type": "execute_result"
    },
    {
     "data": {
      "image/png": "[encoded data removed]",
      "text/plain": [
       "<Figure size 640x480 with 1 Axes>"
      ]
     },
     "metadata": {},
     "output_type": "display_data"
    }
   ],
   "source": [
    "# Visualize the Correlation between Satisfaction score and work life balance score\n",
    "plt.bar(df_selected['Satisfaction Score'], df_selected['Work-Life Balance Score'])\n",
    "plt.title('Satisfaction Score vs Work-Life Balance Score')\n",
    "plt.xlabel('Satisfaction Score')\n",
    "plt.ylabel('Work-Life Balance Score')"
   ]
  },
  {
   "cell_type": "code",
   "execution_count": null,
   "id": "f93471db-1ea5-4d94-b3d8-d1036fcd234d",
   "metadata": {},
   "outputs": [],
   "source": []
  }
 ],
 "metadata": {
  "kernelspec": {
   "display_name": "Python 3 (ipykernel)",
   "language": "python",
   "name": "python3"
  },
  "language_info": {
   "codemirror_mode": {
    "name": "ipython",
    "version": 3
   },
   "file_extension": ".py",
   "mimetype": "text/x-python",
   "name": "python",
   "nbconvert_exporter": "python",
   "pygments_lexer": "ipython3",
   "version": "3.12.7"
  }
 },
 "nbformat": 4,
 "nbformat_minor": 5
}
